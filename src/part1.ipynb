{
 "cells": [
  {
   "cell_type": "code",
   "execution_count": 52,
   "id": "fdd62144",
   "metadata": {},
   "outputs": [],
   "source": [
    "import os\n",
    "import pandas as pd\n",
    "import matplotlib.pyplot as plt\n",
    "import numpy as np\n",
    "from scipy.stats import skew\n",
    "from scipy.stats import kurtosis\n",
    "from scipy.stats import shapiro"
   ]
  },
  {
   "cell_type": "code",
   "execution_count": 54,
   "id": "17be7a0e",
   "metadata": {},
   "outputs": [
    {
     "name": "stdout",
     "output_type": "stream",
     "text": [
      "C:\\Users\\nafis\\Documents\\Naf's files\\Courses\\DataCamp\\datacamp 5 - skill track - Applied Finance in Python\\1 Introduction to Portfolio Risk Management in Python\\data\n"
     ]
    }
   ],
   "source": [
    "# set path\n",
    "print(os.getcwd())\n",
    "os.chdir(r\"C:\\\\Users\\\\nafis\\\\Documents\\\\Naf's files\\\\Courses\\\\DataCamp\\\\datacamp 5 - skill track - Applied Finance in Python\\\\1 Introduction to Portfolio Risk Management in Python\\\\data\")  # Provide the new path here"
   ]
  },
  {
   "cell_type": "code",
   "execution_count": 86,
   "id": "8b91738c",
   "metadata": {},
   "outputs": [
    {
     "name": "stdout",
     "output_type": "stream",
     "text": [
      "first_five_rows:         Date    Open    High     Low     Close    Volume   Adjusted\n",
      "0 2000-01-03  88.777  89.722  84.712  58.28125  53228400  38.527809\n",
      "1 2000-01-04  85.893  88.588  84.901  56.31250  54119000  37.226345\n",
      "2 2000-01-05  84.050  88.021  82.726  56.90625  64059600  37.618851\n",
      "3 2000-01-06  84.853  86.130  81.970  55.00000  54976600  36.358688\n",
      "4 2000-01-07  82.159  84.901  81.166  55.71875  62013600  36.833828\n",
      "<class 'pandas.core.frame.DataFrame'>\n",
      "Int64Index: 4561 entries, 0 to 4560\n",
      "Data columns (total 7 columns):\n",
      " #   Column    Non-Null Count  Dtype         \n",
      "---  ------    --------------  -----         \n",
      " 0   Date      4561 non-null   datetime64[ns]\n",
      " 1   Open      4561 non-null   float64       \n",
      " 2   High      4561 non-null   float64       \n",
      " 3   Low       4561 non-null   float64       \n",
      " 4   Close     4561 non-null   float64       \n",
      " 5   Volume    4561 non-null   int64         \n",
      " 6   Adjusted  4561 non-null   float64       \n",
      "dtypes: datetime64[ns](1), float64(5), int64(1)\n",
      "memory usage: 285.1 KB\n",
      "None\n"
     ]
    }
   ],
   "source": [
    "# The file you're going to load include daily Open, High, Low, Close, Adjusted Close, and Volume data, \n",
    "# often referred to as OHLCV data.\n",
    "\n",
    "# Read in the csv file and parse dates\n",
    "StockPrices = pd.read_csv(\"MSFTPrices.csv\", parse_dates=['Date'])\n",
    "\n",
    "# Ensure the prices are sorted by Date\n",
    "StockPrices = StockPrices.sort_values(by='Date')\n",
    "\n",
    "# Print only the first five rows of StockPrices\n",
    "print(\"first_five_rows:\", StockPrices.head())\n",
    "\n",
    "\n",
    "print(StockPrices.info())"
   ]
  },
  {
   "cell_type": "code",
   "execution_count": 87,
   "id": "af25dd91",
   "metadata": {},
   "outputs": [
    {
     "name": "stdout",
     "output_type": "stream",
     "text": [
      "first_five_rows:         Date    Open    High     Low     Close    Volume   Adjusted   Returns\n",
      "0 2000-01-03  88.777  89.722  84.712  58.28125  53228400  38.527809       NaN\n",
      "1 2000-01-04  85.893  88.588  84.901  56.31250  54119000  37.226345 -0.033780\n",
      "2 2000-01-05  84.050  88.021  82.726  56.90625  64059600  37.618851  0.010544\n",
      "3 2000-01-06  84.853  86.130  81.970  55.00000  54976600  36.358688 -0.033498\n",
      "4 2000-01-07  82.159  84.901  81.166  55.71875  62013600  36.833828  0.013068\n"
     ]
    },
    {
     "data": {
      "image/png": "[encoded data removed]",
      "text/plain": [
       "<Figure size 432x288 with 1 Axes>"
      ]
     },
     "metadata": {
      "needs_background": "light"
     },
     "output_type": "display_data"
    }
   ],
   "source": [
    "# Calculating financial returns:'Adjusted Close' column is normalized for stock splits, dividends, and other corporate actions, \n",
    "# and is a true reflection of the return of the stock over time. \n",
    "\n",
    "# Calculate the daily returns of the adjusted close price\n",
    "StockPrices['Returns'] = StockPrices['Adjusted'].pct_change()\n",
    "\n",
    "# Check the first five rows of StockPrices\n",
    "print(\"first_five_rows:\", StockPrices.head())\n",
    "\n",
    "# Convert the 'Date' column to index, so that we get Date as x-axis when we plot \n",
    "StockPrices = StockPrices.set_index('Date')\n",
    "\n",
    "# Plot the returns column over time\n",
    "StockPrices['Returns'].plot() \n",
    "plt.show()"
   ]
  },
  {
   "cell_type": "code",
   "execution_count": 62,
   "id": "162dc3b2",
   "metadata": {},
   "outputs": [
    {
     "data": {
      "image/png": "[encoded data removed]",
      "text/plain": [
       "<Figure size 432x288 with 1 Axes>"
      ]
     },
     "metadata": {
      "needs_background": "light"
     },
     "output_type": "display_data"
    }
   ],
   "source": [
    "# Return distributions: to analyze the probability of outliers in returns, \n",
    "# it is helpful to visualize the historical returns of a stock using a histogram.\n",
    "\n",
    "# Convert the decimal returns into percentage returns\n",
    "percent_return = StockPrices['Returns']*100\n",
    "\n",
    "# Drop the missing values\n",
    "returns_plot = percent_return.dropna()\n",
    "\n",
    "# Plot the returns histogram\n",
    "plt.hist(returns_plot, 75)\n",
    "plt.show()"
   ]
  },
  {
   "cell_type": "code",
   "execution_count": 64,
   "id": "7169c0be",
   "metadata": {},
   "outputs": [
    {
     "name": "stdout",
     "output_type": "stream",
     "text": [
      "mean_return_daily: 0.0003777754643575769\n",
      "mean_return_annualized: 0.09985839482852632\n"
     ]
    }
   ],
   "source": [
    "# To estimate the average annual return of a stock given the average daily return \n",
    "# and the number of trading days in a year (roughly 252 trading days in a year):\n",
    "\n",
    "# Calculate the average daily return of the stock\n",
    "mean_return_daily = np.mean(StockPrices['Returns'])\n",
    "print(\"mean_return_daily:\", mean_return_daily)\n",
    "\n",
    "# Calculate the implied annualized average return\n",
    "mean_return_annualized = ((1 + mean_return_daily)**252) - 1\n",
    "print(\"mean_return_annualized:\", mean_return_annualized)"
   ]
  },
  {
   "cell_type": "code",
   "execution_count": 66,
   "id": "8288d97a",
   "metadata": {},
   "outputs": [
    {
     "name": "stdout",
     "output_type": "stream",
     "text": [
      "sigma_daily: 0.019341100408708328\n",
      "variance_daily: 0.0003740781650197374\n",
      "sigma_annualized: 0.3070304505826317\n",
      "variance_annualized: 0.09426769758497383\n"
     ]
    }
   ],
   "source": [
    "# Calculate the standard deviation (Volatility/Vol) of daily return of the stock\n",
    "sigma_daily = np.std(StockPrices['Returns'])\n",
    "print(\"sigma_daily:\", sigma_daily)\n",
    "\n",
    "# Calculate the daily variance\n",
    "variance_daily = sigma_daily**2\n",
    "print(\"variance_daily:\", variance_daily)\n",
    "\n",
    "# Annualize the standard deviation\n",
    "sigma_annualized = sigma_daily*np.sqrt(252)\n",
    "print(\"sigma_annualized:\", sigma_annualized)\n",
    "\n",
    "# Calculate the annualized variance\n",
    "variance_annualized = sigma_annualized**2\n",
    "print(\"variance_annualized:\", variance_annualized)"
   ]
  },
  {
   "cell_type": "code",
   "execution_count": 68,
   "id": "5574864f",
   "metadata": {},
   "outputs": [
    {
     "name": "stdout",
     "output_type": "stream",
     "text": [
      "skewness: 0.21935459193067805\n",
      "excess_kurtosis: 10.314572618025519\n",
      "fourth_moment/kurtosis: 13.314572618025519\n"
     ]
    }
   ],
   "source": [
    "# Drop the missing values\n",
    "clean_returns = StockPrices['Returns'].dropna()\n",
    "\n",
    "# Calculate the third moment (skewness) of the returns distribution\n",
    "returns_skewness = skew(clean_returns)\n",
    "print(\"skewness:\", returns_skewness)\n",
    "\n",
    "# Calculate the 'excess' kurtosis of the returns distribution\n",
    "excess_kurtosis = kurtosis(clean_returns)\n",
    "print(\"excess_kurtosis:\", excess_kurtosis)\n",
    "\n",
    "# Derive the true fourth moment (kurtosis) of the returns distribution\n",
    "fourth_moment = excess_kurtosis + 3\n",
    "print(\"fourth_moment/kurtosis:\", fourth_moment)"
   ]
  },
  {
   "cell_type": "code",
   "execution_count": 69,
   "id": "f2da7d76",
   "metadata": {},
   "outputs": [
    {
     "name": "stdout",
     "output_type": "stream",
     "text": [
      "Shapiro results: ShapiroResult(statistic=0.9003633260726929, pvalue=0.0)\n",
      "P-value:  0.0\n"
     ]
    }
   ],
   "source": [
    "# Statistical normality test (wether a distribition is normal)\n",
    "# Test 1: Check third and fourth moments. If skewness away from zero & (excess) kurtosis greater than (0) 3, assume that the data are non-normally distributed.\n",
    "# Test 2: Shapiro-Wilk test: this function will return two values in a list. The first value is the t-stat of the test, and the second value is the p-value. \n",
    "# If the p-value is less than or equal to 0.05, reject the null hypothesis of normality and assume that the data are non-normally distributed.\n",
    "\n",
    "\n",
    "# Run the Shapiro-Wilk test on the stock returns\n",
    "shapiro_results = shapiro(clean_returns)\n",
    "print(\"Shapiro results:\", shapiro_results)\n",
    "\n",
    "# Extract the p-value from the shapiro_results\n",
    "p_value = shapiro_results[1]\n",
    "print(\"P-value: \", p_value)"
   ]
  }
 ],
 "metadata": {
  "kernelspec": {
   "display_name": "Python 3",
   "language": "python",
   "name": "python3"
  },
  "language_info": {
   "codemirror_mode": {
    "name": "ipython",
    "version": 3
   },
   "file_extension": ".py",
   "mimetype": "text/x-python",
   "name": "python",
   "nbconvert_exporter": "python",
   "pygments_lexer": "ipython3",
   "version": "3.8.8"
  }
 },
 "nbformat": 4,
 "nbformat_minor": 5
}
